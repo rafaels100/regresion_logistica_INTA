{
 "cells": [
  {
   "cell_type": "code",
   "execution_count": 20,
   "metadata": {},
   "outputs": [],
   "source": [
    "import numpy as np\n",
    "import matplotlib.pyplot as plt\n",
    "import pandas as pd\n",
    "from sklearn.linear_model import LogisticRegression"
   ]
  },
  {
   "cell_type": "markdown",
   "metadata": {},
   "source": [
    "# Regresión logística: base de datos del INTA<br>\n",
    "Usaremos un dataset del INTA (Instituo Nacional de Tecnologia Agropecuaria) que registra temperaturas minimas y maximas, precipitaciones, humedad y mas para un dia (en este caso, usamos las de San Fernando). Tenemos las de 2018 hasta la actualidad.\n",
    "\n",
    "Importamos la base de datos:"
   ]
  },
  {
   "cell_type": "code",
   "execution_count": 21,
   "metadata": {},
   "outputs": [
    {
     "name": "stdout",
     "output_type": "stream",
     "text": [
      "                   Fecha  Temperatura_Abrigo_150cm  \\\n",
      "0  2018-02-08 00:00:00.0                       NaN   \n",
      "1  2018-02-09 00:00:00.0                  23.80764   \n",
      "2  2018-02-10 00:00:00.0                  24.51389   \n",
      "3  2018-02-11 00:00:00.0                  19.50139   \n",
      "4  2018-02-12 00:00:00.0                  16.70625   \n",
      "\n",
      "   Temperatura_Abrigo_150cm_Maxima  Temperatura_Abrigo_150cm_Minima  \\\n",
      "0                              NaN                              NaN   \n",
      "1                             28.6                             20.4   \n",
      "2                             31.7                             19.4   \n",
      "3                             24.2                             15.1   \n",
      "4                             24.6                              9.5   \n",
      "\n",
      "   Temperatura_Intemperie_5cm_Minima  Temperatura_Intemperie_50cm_Minima  \\\n",
      "0                                NaN                                 NaN   \n",
      "1                                NaN                                 NaN   \n",
      "2                                NaN                                 NaN   \n",
      "3                                NaN                                 NaN   \n",
      "4                                NaN                                 NaN   \n",
      "\n",
      "   Temperatura_Suelo_5cm_Media  Temperatura_Suelo_10cm_Media  \\\n",
      "0                          NaN                           NaN   \n",
      "1                          NaN                      26.21042   \n",
      "2                          NaN                      26.45972   \n",
      "3                          NaN                      24.66320   \n",
      "4                          NaN                      22.63611   \n",
      "\n",
      "   Temperatura_Inte_5cm  Temperatura_Intemperie_150cm_Minima  ...  \\\n",
      "0                   NaN                                  NaN  ...   \n",
      "1                   NaN                                  NaN  ...   \n",
      "2                   NaN                                  NaN  ...   \n",
      "3                   NaN                                  NaN  ...   \n",
      "4                   NaN                                  NaN  ...   \n",
      "\n",
      "   Duracion_Follaje_Mojado  Velocidad_Viento_200cm_Media  \\\n",
      "0                      NaN                           NaN   \n",
      "1                      NaN                      1.332639   \n",
      "2                      NaN                      1.638195   \n",
      "3                      NaN                      3.247224   \n",
      "4                      NaN                      1.027778   \n",
      "\n",
      "   Direccion_Viento_200cm  Velocidad_Viento_1000cm_Media  \\\n",
      "0                                                    NaN   \n",
      "1                      C                        1.665799   \n",
      "2                      C                        2.047743   \n",
      "3                      E                        4.059030   \n",
      "4                      C                        1.284722   \n",
      "\n",
      "   Direccion_Viento_1000cm  Velocidad_Viento_Maxima  Presion_Media  \\\n",
      "0                                               NaN            NaN   \n",
      "1                       C                      19.3            NaN   \n",
      "2                       C                      19.0            NaN   \n",
      "3                       C                      20.4            NaN   \n",
      "4                       C                      13.4            NaN   \n",
      "\n",
      "   Radiacion_Global  Horas_Frio  Unidades_Frio  \n",
      "0               NaN         NaN            NaN  \n",
      "1               NaN         0.0     -23.904030  \n",
      "2               NaN         0.0     -23.904030  \n",
      "3               NaN         0.0     -15.106020  \n",
      "4               NaN         0.0      -5.394994  \n",
      "\n",
      "[5 rows x 30 columns]\n"
     ]
    }
   ],
   "source": [
    "filename = \"datosDiariosSanFernandoINTA.xls\"\n",
    "datos = pd.read_excel(filename)\n",
    "#veamos los primeros elementos del dataset\n",
    "print(datos.head())"
   ]
  },
  {
   "cell_type": "markdown",
   "metadata": {},
   "source": [
    "Nos quedamos solo con ciertos campos del dataset"
   ]
  },
  {
   "cell_type": "code",
   "execution_count": 22,
   "metadata": {},
   "outputs": [],
   "source": [
    "columnas = ['Temperatura_Abrigo_150cm_Maxima','Temperatura_Abrigo_150cm_Minima',\n",
    "            'Precipitacion_Pluviometrica', 'Velocidad_Viento_Maxima',\n",
    "            'Rocio_Medio', 'Humedad_Media']\n",
    "#de los datos, solo nos quedamos con estas columnas\n",
    "df = datos.loc[:, columnas]"
   ]
  },
  {
   "cell_type": "markdown",
   "metadata": {},
   "source": [
    "Hacemos dropna para deshacernos de las columnas vacias"
   ]
  },
  {
   "cell_type": "code",
   "execution_count": 23,
   "metadata": {},
   "outputs": [
    {
     "name": "stdout",
     "output_type": "stream",
     "text": [
      "      Temperatura_Abrigo_150cm_Maxima  Temperatura_Abrigo_150cm_Minima  \\\n",
      "1                                28.6                             20.4   \n",
      "2                                31.7                             19.4   \n",
      "3                                24.2                             15.1   \n",
      "4                                24.6                              9.5   \n",
      "5                                28.8                             10.2   \n",
      "...                               ...                              ...   \n",
      "1149                             29.6                             16.2   \n",
      "1150                             31.6                             17.9   \n",
      "1151                             27.4                             18.1   \n",
      "1152                             22.3                             18.9   \n",
      "1153                             21.2                             17.9   \n",
      "\n",
      "      Precipitacion_Pluviometrica  Velocidad_Viento_Maxima  Rocio_Medio  \\\n",
      "1                           11.75                     19.3    16.462780   \n",
      "2                           10.50                     19.0    18.622350   \n",
      "3                            0.00                     20.4    12.071650   \n",
      "4                            0.25                     13.4     9.627476   \n",
      "5                            0.00                     10.4    12.139410   \n",
      "...                           ...                      ...          ...   \n",
      "1149                         0.00                     12.3    14.987480   \n",
      "1150                         0.00                     10.9    16.699790   \n",
      "1151                        28.00                     13.7    17.514750   \n",
      "1152                         4.50                      7.4    10.707290   \n",
      "1153                        17.75                     11.7    10.575290   \n",
      "\n",
      "      Humedad_Media  \n",
      "1              66.0  \n",
      "2              72.0  \n",
      "3              65.0  \n",
      "4              66.0  \n",
      "5              68.0  \n",
      "...             ...  \n",
      "1149           66.0  \n",
      "1150           69.0  \n",
      "1151           80.0  \n",
      "1152           59.0  \n",
      "1153           55.0  \n",
      "\n",
      "[1054 rows x 6 columns]\n"
     ]
    }
   ],
   "source": [
    "df.dropna(inplace=True)\n",
    "print(df)"
   ]
  },
  {
   "cell_type": "markdown",
   "metadata": {},
   "source": [
    "Renombramos las columnas"
   ]
  },
  {
   "cell_type": "code",
   "execution_count": 24,
   "metadata": {},
   "outputs": [
    {
     "name": "stdout",
     "output_type": "stream",
     "text": [
      "      temperaturaMaxima  temperaturaMinima  precipitacion  viento      rocio  \\\n",
      "1                  28.6               20.4          11.75    19.3  16.462780   \n",
      "2                  31.7               19.4          10.50    19.0  18.622350   \n",
      "3                  24.2               15.1           0.00    20.4  12.071650   \n",
      "4                  24.6                9.5           0.25    13.4   9.627476   \n",
      "5                  28.8               10.2           0.00    10.4  12.139410   \n",
      "...                 ...                ...            ...     ...        ...   \n",
      "1149               29.6               16.2           0.00    12.3  14.987480   \n",
      "1150               31.6               17.9           0.00    10.9  16.699790   \n",
      "1151               27.4               18.1          28.00    13.7  17.514750   \n",
      "1152               22.3               18.9           4.50     7.4  10.707290   \n",
      "1153               21.2               17.9          17.75    11.7  10.575290   \n",
      "\n",
      "      humedad  \n",
      "1        66.0  \n",
      "2        72.0  \n",
      "3        65.0  \n",
      "4        66.0  \n",
      "5        68.0  \n",
      "...       ...  \n",
      "1149     66.0  \n",
      "1150     69.0  \n",
      "1151     80.0  \n",
      "1152     59.0  \n",
      "1153     55.0  \n",
      "\n",
      "[1054 rows x 6 columns]\n"
     ]
    }
   ],
   "source": [
    "renombres = {\n",
    "             'Temperatura_Abrigo_150cm_Maxima' : 'temperaturaMaxima',\n",
    "             'Temperatura_Abrigo_150cm_Minima' : 'temperaturaMinima',\n",
    "             'Precipitacion_Pluviometrica' : 'precipitacion',\n",
    "             'Humedad_Media' : 'humedad',\n",
    "             'Rocio_Medio' : 'rocio',\n",
    "             'Velocidad_Viento_Maxima' : 'viento'\n",
    "             }\n",
    "df.rename(renombres, axis=1, inplace=True)\n",
    "#veamos como quedo el dataset con columnas renombradas\n",
    "print(df)"
   ]
  },
  {
   "cell_type": "markdown",
   "metadata": {},
   "source": [
    "\n",
    "<br>\n",
    "Agrego ahora una nueva columna para crear una nueva feature de<br>\n",
    "temperaturaMinima x temperaturaMaxima.<br>\n",
    "Le asigno los valores de temperatura minima multiplicados por los de<br>\n",
    "temperatura maxima<br>\n"
   ]
  },
  {
   "cell_type": "code",
   "execution_count": 25,
   "metadata": {},
   "outputs": [
    {
     "name": "stdout",
     "output_type": "stream",
     "text": [
      "      temperaturaMaxima  temperaturaMinima  precipitacion  viento      rocio  \\\n",
      "1                  28.6               20.4          11.75    19.3  16.462780   \n",
      "2                  31.7               19.4          10.50    19.0  18.622350   \n",
      "3                  24.2               15.1           0.00    20.4  12.071650   \n",
      "4                  24.6                9.5           0.25    13.4   9.627476   \n",
      "5                  28.8               10.2           0.00    10.4  12.139410   \n",
      "...                 ...                ...            ...     ...        ...   \n",
      "1149               29.6               16.2           0.00    12.3  14.987480   \n",
      "1150               31.6               17.9           0.00    10.9  16.699790   \n",
      "1151               27.4               18.1          28.00    13.7  17.514750   \n",
      "1152               22.3               18.9           4.50     7.4  10.707290   \n",
      "1153               21.2               17.9          17.75    11.7  10.575290   \n",
      "\n",
      "      humedad  tempMinxMax  \n",
      "1        66.0       583.44  \n",
      "2        72.0       614.98  \n",
      "3        65.0       365.42  \n",
      "4        66.0       233.70  \n",
      "5        68.0       293.76  \n",
      "...       ...          ...  \n",
      "1149     66.0       479.52  \n",
      "1150     69.0       565.64  \n",
      "1151     80.0       495.94  \n",
      "1152     59.0       421.47  \n",
      "1153     55.0       379.48  \n",
      "\n",
      "[1054 rows x 7 columns]\n"
     ]
    }
   ],
   "source": [
    "df[\"tempMinxMax\"] = df[\"temperaturaMinima\"] * df[\"temperaturaMaxima\"]\n",
    "print(df)"
   ]
  },
  {
   "cell_type": "markdown",
   "metadata": {},
   "source": [
    "\n",
    "<br>\n",
    "Agrego otra nueva feature just for the laughs, que sea la temperatura minima<br>\n",
    "multiplicada por si misma<br>\n"
   ]
  },
  {
   "cell_type": "code",
   "execution_count": 26,
   "metadata": {},
   "outputs": [],
   "source": [
    "df[\"tempMinxMin\"] = df[\"temperaturaMinima\"] * df[\"temperaturaMinima\"]"
   ]
  },
  {
   "cell_type": "markdown",
   "metadata": {},
   "source": [
    "\n",
    "<br>\n",
    "Teniendo en cuenta que queremos saber si llueve o no llueve un dia, vamos a<br>\n",
    "llevar a una categoria binaria la columna precipitacion.<br>\n",
    "Generamos una nueva columna que sea \"llueveNollueve\" que de cuenta de esto<br>\n"
   ]
  },
  {
   "cell_type": "code",
   "execution_count": 27,
   "metadata": {},
   "outputs": [
    {
     "name": "stdout",
     "output_type": "stream",
     "text": [
      "      temperaturaMaxima  temperaturaMinima  precipitacion  viento      rocio  \\\n",
      "1                  28.6               20.4          11.75    19.3  16.462780   \n",
      "2                  31.7               19.4          10.50    19.0  18.622350   \n",
      "3                  24.2               15.1           0.00    20.4  12.071650   \n",
      "4                  24.6                9.5           0.25    13.4   9.627476   \n",
      "5                  28.8               10.2           0.00    10.4  12.139410   \n",
      "...                 ...                ...            ...     ...        ...   \n",
      "1149               29.6               16.2           0.00    12.3  14.987480   \n",
      "1150               31.6               17.9           0.00    10.9  16.699790   \n",
      "1151               27.4               18.1          28.00    13.7  17.514750   \n",
      "1152               22.3               18.9           4.50     7.4  10.707290   \n",
      "1153               21.2               17.9          17.75    11.7  10.575290   \n",
      "\n",
      "      humedad  tempMinxMax  tempMinxMin  llueveNollueve  \n",
      "1        66.0       583.44       416.16               1  \n",
      "2        72.0       614.98       376.36               1  \n",
      "3        65.0       365.42       228.01               0  \n",
      "4        66.0       233.70        90.25               1  \n",
      "5        68.0       293.76       104.04               0  \n",
      "...       ...          ...          ...             ...  \n",
      "1149     66.0       479.52       262.44               0  \n",
      "1150     69.0       565.64       320.41               0  \n",
      "1151     80.0       495.94       327.61               1  \n",
      "1152     59.0       421.47       357.21               1  \n",
      "1153     55.0       379.48       320.41               1  \n",
      "\n",
      "[1054 rows x 9 columns]\n"
     ]
    }
   ],
   "source": [
    "df[\"llueveNollueve\"] = 0 #Creamos la nueva columna y la llenamos de ceros\n",
    "#Identificamos los indices de la columna precipitacion que tienen filas > 0\n",
    "indices = df[\"precipitacion\"] > 0\n",
    "#El criterio adoptado es decir que en ese dia llovio, aunque sea que llovio 1mm\n",
    "#ponemos 1 en las columnas de llueveNollueve donde llovio. Las otras quedan en 0\n",
    "df.loc[indices, \"llueveNollueve\"] = 1\n",
    "print(df)"
   ]
  },
  {
   "cell_type": "markdown",
   "metadata": {},
   "source": [
    "Veamos cuantos dias llovio y cuantos no llovio"
   ]
  },
  {
   "cell_type": "code",
   "execution_count": 28,
   "metadata": {},
   "outputs": [
    {
     "name": "stdout",
     "output_type": "stream",
     "text": [
      "0    717\n",
      "1    337\n",
      "Name: llueveNollueve, dtype: int64\n"
     ]
    }
   ],
   "source": [
    "print(df[\"llueveNollueve\"].value_counts())"
   ]
  },
  {
   "cell_type": "markdown",
   "metadata": {},
   "source": [
    "\n",
    "## REGRESION LOGISTICA\n",
    "Estamos listos para jugar con sklearn y la clasificacion.\n",
    "Vamos a buscar relacionar las caracteristica: temperaturaMaxima,\n",
    "temperaturaMinima, humedad, con la etiqueta llueveNollueve\n",
    "Es decir, habiendo tageado a los dias que llueven, vamos a estudiar las\n",
    "features temperaturaMaxima, temperaturaMinima, humedad para poder crear un\n",
    "modelo que, si le presentamos nueva informacion de dichas features, pueda\n",
    "clasificar un dia correctamente como lluvioso o no.<br>\n",
    "De la data del pasado, vamos a poder predecir cosas sobre la nueva data.\n",
    "Vamos a usar dos features lineales, es decir, la regresion logistica<br>\n",
    "multivariable mas simple, con $X = beta2 * y + beta1 * x + beta0$\n",
    "seleccionamos la columna de temperaturaMinima y temperaturaMaxima,\n",
    "que seran los datos de mi variable aleatoria X.<br>\n",
    "Nos quedamos entonces con el dataframe temperaturaMinima y temperaturaMaxima<br>\n"
   ]
  },
  {
   "cell_type": "code",
   "execution_count": 29,
   "metadata": {},
   "outputs": [
    {
     "name": "stdout",
     "output_type": "stream",
     "text": [
      "      temperaturaMaxima  temperaturaMinima\n",
      "1                  28.6               20.4\n",
      "2                  31.7               19.4\n",
      "3                  24.2               15.1\n",
      "4                  24.6                9.5\n",
      "5                  28.8               10.2\n",
      "...                 ...                ...\n",
      "1149               29.6               16.2\n",
      "1150               31.6               17.9\n",
      "1151               27.4               18.1\n",
      "1152               22.3               18.9\n",
      "1153               21.2               17.9\n",
      "\n",
      "[1054 rows x 2 columns]\n",
      "<class 'pandas.core.frame.DataFrame'>\n"
     ]
    }
   ],
   "source": [
    "df_features = df[[\"temperaturaMaxima\", \"temperaturaMinima\"]]\n",
    "print(df_features)\n",
    "print(type(df_features))"
   ]
  },
  {
   "cell_type": "markdown",
   "metadata": {},
   "source": [
    "Debemos converirlo a una matriz para que sklearn pueda trabajar con ella"
   ]
  },
  {
   "cell_type": "code",
   "execution_count": 30,
   "metadata": {},
   "outputs": [],
   "source": [
    "X = df_features.values\n",
    "#NOTA : Otra forma de hacer esto es con\n",
    "X_1 = df_features.to_numpy()"
   ]
  },
  {
   "cell_type": "markdown",
   "metadata": {},
   "source": [
    "\n",
    "<br>\n",
    "Obtengo el vector de tags, llueveNollueve. Primero la series del dataframe y<br>\n",
    "luego lo paso a vector<br>\n"
   ]
  },
  {
   "cell_type": "code",
   "execution_count": 31,
   "metadata": {},
   "outputs": [
    {
     "name": "stdout",
     "output_type": "stream",
     "text": [
      "[1 1 0 ... 1 1 1]\n"
     ]
    }
   ],
   "source": [
    "serie_llueveNollueve = df[\"llueveNollueve\"]\n",
    "z = serie_llueveNollueve.values\n",
    "print(z)"
   ]
  },
  {
   "cell_type": "markdown",
   "metadata": {},
   "source": [
    "Creo el modelo de regresion logistica"
   ]
  },
  {
   "cell_type": "code",
   "execution_count": 32,
   "metadata": {},
   "outputs": [
    {
     "data": {
      "text/html": [
       "<style>#sk-container-id-2 {color: black;background-color: white;}#sk-container-id-2 pre{padding: 0;}#sk-container-id-2 div.sk-toggleable {background-color: white;}#sk-container-id-2 label.sk-toggleable__label {cursor: pointer;display: block;width: 100%;margin-bottom: 0;padding: 0.3em;box-sizing: border-box;text-align: center;}#sk-container-id-2 label.sk-toggleable__label-arrow:before {content: \"▸\";float: left;margin-right: 0.25em;color: #696969;}#sk-container-id-2 label.sk-toggleable__label-arrow:hover:before {color: black;}#sk-container-id-2 div.sk-estimator:hover label.sk-toggleable__label-arrow:before {color: black;}#sk-container-id-2 div.sk-toggleable__content {max-height: 0;max-width: 0;overflow: hidden;text-align: left;background-color: #f0f8ff;}#sk-container-id-2 div.sk-toggleable__content pre {margin: 0.2em;color: black;border-radius: 0.25em;background-color: #f0f8ff;}#sk-container-id-2 input.sk-toggleable__control:checked~div.sk-toggleable__content {max-height: 200px;max-width: 100%;overflow: auto;}#sk-container-id-2 input.sk-toggleable__control:checked~label.sk-toggleable__label-arrow:before {content: \"▾\";}#sk-container-id-2 div.sk-estimator input.sk-toggleable__control:checked~label.sk-toggleable__label {background-color: #d4ebff;}#sk-container-id-2 div.sk-label input.sk-toggleable__control:checked~label.sk-toggleable__label {background-color: #d4ebff;}#sk-container-id-2 input.sk-hidden--visually {border: 0;clip: rect(1px 1px 1px 1px);clip: rect(1px, 1px, 1px, 1px);height: 1px;margin: -1px;overflow: hidden;padding: 0;position: absolute;width: 1px;}#sk-container-id-2 div.sk-estimator {font-family: monospace;background-color: #f0f8ff;border: 1px dotted black;border-radius: 0.25em;box-sizing: border-box;margin-bottom: 0.5em;}#sk-container-id-2 div.sk-estimator:hover {background-color: #d4ebff;}#sk-container-id-2 div.sk-parallel-item::after {content: \"\";width: 100%;border-bottom: 1px solid gray;flex-grow: 1;}#sk-container-id-2 div.sk-label:hover label.sk-toggleable__label {background-color: #d4ebff;}#sk-container-id-2 div.sk-serial::before {content: \"\";position: absolute;border-left: 1px solid gray;box-sizing: border-box;top: 0;bottom: 0;left: 50%;z-index: 0;}#sk-container-id-2 div.sk-serial {display: flex;flex-direction: column;align-items: center;background-color: white;padding-right: 0.2em;padding-left: 0.2em;position: relative;}#sk-container-id-2 div.sk-item {position: relative;z-index: 1;}#sk-container-id-2 div.sk-parallel {display: flex;align-items: stretch;justify-content: center;background-color: white;position: relative;}#sk-container-id-2 div.sk-item::before, #sk-container-id-2 div.sk-parallel-item::before {content: \"\";position: absolute;border-left: 1px solid gray;box-sizing: border-box;top: 0;bottom: 0;left: 50%;z-index: -1;}#sk-container-id-2 div.sk-parallel-item {display: flex;flex-direction: column;z-index: 1;position: relative;background-color: white;}#sk-container-id-2 div.sk-parallel-item:first-child::after {align-self: flex-end;width: 50%;}#sk-container-id-2 div.sk-parallel-item:last-child::after {align-self: flex-start;width: 50%;}#sk-container-id-2 div.sk-parallel-item:only-child::after {width: 0;}#sk-container-id-2 div.sk-dashed-wrapped {border: 1px dashed gray;margin: 0 0.4em 0.5em 0.4em;box-sizing: border-box;padding-bottom: 0.4em;background-color: white;}#sk-container-id-2 div.sk-label label {font-family: monospace;font-weight: bold;display: inline-block;line-height: 1.2em;}#sk-container-id-2 div.sk-label-container {text-align: center;}#sk-container-id-2 div.sk-container {/* jupyter's `normalize.less` sets `[hidden] { display: none; }` but bootstrap.min.css set `[hidden] { display: none !important; }` so we also need the `!important` here to be able to override the default hidden behavior on the sphinx rendered scikit-learn.org. See: https://github.com/scikit-learn/scikit-learn/issues/21755 */display: inline-block !important;position: relative;}#sk-container-id-2 div.sk-text-repr-fallback {display: none;}</style><div id=\"sk-container-id-2\" class=\"sk-top-container\"><div class=\"sk-text-repr-fallback\"><pre>LogisticRegression(penalty=&#x27;none&#x27;)</pre><b>In a Jupyter environment, please rerun this cell to show the HTML representation or trust the notebook. <br />On GitHub, the HTML representation is unable to render, please try loading this page with nbviewer.org.</b></div><div class=\"sk-container\" hidden><div class=\"sk-item\"><div class=\"sk-estimator sk-toggleable\"><input class=\"sk-toggleable__control sk-hidden--visually\" id=\"sk-estimator-id-2\" type=\"checkbox\" checked><label for=\"sk-estimator-id-2\" class=\"sk-toggleable__label sk-toggleable__label-arrow\">LogisticRegression</label><div class=\"sk-toggleable__content\"><pre>LogisticRegression(penalty=&#x27;none&#x27;)</pre></div></div></div></div></div>"
      ],
      "text/plain": [
       "LogisticRegression(penalty='none')"
      ]
     },
     "execution_count": 32,
     "metadata": {},
     "output_type": "execute_result"
    }
   ],
   "source": [
    "regLog = LogisticRegression(penalty=\"none\") #instancio el objeto de regresion logistica\n",
    "#fiteo la data\n",
    "regLog.fit(X, z)"
   ]
  },
  {
   "cell_type": "markdown",
   "metadata": {},
   "source": [
    "\n",
    "<br>\n",
    "Veamos los coeficientes fiteados. Los coeficientes que mejor ajustan la<br>\n",
    "data redondeados a 4 decimales son:<br>\n"
   ]
  },
  {
   "cell_type": "code",
   "execution_count": 33,
   "metadata": {},
   "outputs": [
    {
     "name": "stdout",
     "output_type": "stream",
     "text": [
      "beta2:  0.1811\n",
      "beta1:  -0.1255\n",
      "beta0:  0.1828\n"
     ]
    }
   ],
   "source": [
    "beta2 = regLog.coef_[0][1].round(4)\n",
    "beta1 = regLog.coef_[0][0].round(4)\n",
    "beta0 = regLog.intercept_[0].round(4)\n",
    "print(\"beta2: \", beta2)\n",
    "print(\"beta1: \", beta1)\n",
    "print(\"beta0: \", beta0)"
   ]
  },
  {
   "cell_type": "markdown",
   "metadata": {},
   "source": [
    "\n",
    "<br>\n",
    "Podria usar el predict que viene en el modelo, o podria crear mi propia<br>\n",
    "funcion de regresion logistica y usar los parametros que ya ajusto sklearn:<br>\n",
    "Creo una funcion logistica generica a la cual le pasare los beta1, beta0<br>\n",
    "que mejor se ajustan a mis datos<br>\n"
   ]
  },
  {
   "cell_type": "code",
   "execution_count": 34,
   "metadata": {},
   "outputs": [],
   "source": [
    "def f_logistica(X, beta2, beta1, beta0):\n",
    "    #X = [x, y]\n",
    "    #multiplico beta2 por la segunda columna, beta1 por la primera, y\n",
    "    #les sumo a todos beta0\n",
    "    return (1 / (1 + np.e ** -(beta2 * X[:,1] + beta1 * X[:,0] + beta0)))"
   ]
  },
  {
   "cell_type": "markdown",
   "metadata": {},
   "source": [
    "La prediccion de datos futuros viene dada por"
   ]
  },
  {
   "cell_type": "code",
   "execution_count": 35,
   "metadata": {},
   "outputs": [
    {
     "name": "stdout",
     "output_type": "stream",
     "text": [
      "[1 1 0 ... 1 1 1]\n"
     ]
    }
   ],
   "source": [
    "z_pred1 = f_logistica(X, beta2, beta1, beta0)\n",
    "print(z)"
   ]
  },
  {
   "cell_type": "markdown",
   "metadata": {},
   "source": [
    "\n",
    "<br>\n",
    "Ploteo la nube de puntos reales y lo que el modelo predice con el fiteo<br>\n",
    "realizado<br>\n"
   ]
  },
  {
   "cell_type": "code",
   "execution_count": 36,
   "metadata": {},
   "outputs": [],
   "source": [
    "from mpl_toolkits.mplot3d import Axes3D"
   ]
  },
  {
   "cell_type": "code",
   "execution_count": 37,
   "metadata": {},
   "outputs": [
    {
     "name": "stderr",
     "output_type": "stream",
     "text": [
      "C:\\Users\\rafaels100\\AppData\\Local\\Temp\\ipykernel_7048\\501098934.py:2: MatplotlibDeprecationWarning: Axes3D(fig) adding itself to the figure is deprecated since 3.4. Pass the keyword argument auto_add_to_figure=False and use fig.add_axes(ax) to suppress this warning. The default value of auto_add_to_figure will change to False in mpl3.5 and True values will no longer work in 3.6.  This is consistent with other Axes classes.\n",
      "  ax = Axes3D(fig)\n"
     ]
    },
    {
     "data": {
      "image/png": "[encoded data removed]",
      "text/plain": [
       "<Figure size 432x288 with 1 Axes>"
      ]
     },
     "metadata": {
      "needs_background": "light"
     },
     "output_type": "display_data"
    }
   ],
   "source": [
    "fig = plt.figure()\n",
    "ax = Axes3D(fig)\n",
    "ax.scatter(X[:,0], X[:,1], z, color=\"r\")\n",
    "plt.show()"
   ]
  },
  {
   "cell_type": "markdown",
   "metadata": {},
   "source": [
    "\n",
    "<br>\n",
    "Ahora, usando la propia funcion de prediccion creada por el modelo:<br>\n",
    "(antes la armamos a mano a la funcion logistica, aqui viene armada)<br>\n",
    "<br>\n",
    "Para la regresion creada, predigo los valores de X y los ploteo:"
   ]
  },
  {
   "cell_type": "code",
   "execution_count": 38,
   "metadata": {},
   "outputs": [
    {
     "name": "stdout",
     "output_type": "stream",
     "text": [
      "[1 0 0 ... 1 1 1]\n"
     ]
    }
   ],
   "source": [
    "z_pred = regLog.predict(X)\n",
    "print(z_pred)\n",
    "ax.scatter(X[:,0], X[:,1], z_pred, color=\"b\")\n",
    "plt.show()"
   ]
  },
  {
   "cell_type": "markdown",
   "metadata": {},
   "source": [
    "\n",
    "<br>\n",
    "Vemos que la regresion captura bastante bien los puntos en el piso, pero<br>\n",
    "no asi los puntos en el techo. Esto es asi porque, al haber mas puntos<br>\n",
    "en el piso, decidio capturar esos y sacrificar los del techo en orden de<br>\n",
    "capturar la mayor cantidad posible.<br>\n"
   ]
  },
  {
   "cell_type": "markdown",
   "metadata": {},
   "source": [
    "Veamos ahora la forma del tobogan"
   ]
  },
  {
   "cell_type": "code",
   "execution_count": 39,
   "metadata": {},
   "outputs": [],
   "source": [
    "ax.scatter(X[:,0], X[:,1], z_pred1, color=\"g\")\n",
    "plt.show()"
   ]
  },
  {
   "cell_type": "markdown",
   "metadata": {},
   "source": [
    "\n",
    "<br>\n",
    "Con dataset recortado a 50 dias:<br>\n",
    "df = datos.loc[:50, columnas]<br>\n",
    "Si miras desde el angulo adecuado, se ve la forma del tobogan verde, y si ve<br>\n",
    "que esta bastante mas cerca del 0 que del 1, pues hay muchos mas puntos<br>\n",
    "en el piso que en el techo.<br>\n",
    "En consecuencia, vemos que el modelo predice que TODOS los dias no llueve<br>\n",
    "(ver que los puntos azules de la prediccion estan todos en el piso, no hay<br>\n",
    "ninguno en el techo, pues la forma de la S esta muy pegada al piso).<br>\n",
    "Resulta entonces que este NO es un buen modelo, pues clasifica todos los dias<br>\n",
    "como no llueve, hay 0 chances de que nos diga que algun dia llovio...<br>\n",
    "well, no se que tan malo sea, tal vez necesite mas data<br>\n"
   ]
  },
  {
   "cell_type": "code",
   "execution_count": 40,
   "metadata": {},
   "outputs": [
    {
     "name": "stdout",
     "output_type": "stream",
     "text": [
      "0.7277039848197343\n"
     ]
    }
   ],
   "source": [
    "print(regLog.score(X, z))\n",
    "#well, tan malo no es... 0.76 es mejor que cada uno de los features por separado,\n",
    "#so its a success I'll say."
   ]
  },
  {
   "cell_type": "markdown",
   "metadata": {},
   "source": [
    "\n",
    "<br>\n",
    "Con dataset considerando todos los dias<br>\n",
    "df = datos.loc[:, columnas]<br>\n",
    "Ahora si que es clara la forma de S, y ademas vemos que las predicciones (azules)<br>\n",
    "sacrifican pegarle a bastantes rojas que estan en el techo al principio<br>\n",
    "para poder pegarles a las que estan en el suelo, mientras que al final prefieren<br>\n",
    "pegarle a las rojas del techo, sacrificando pegarle a las que estan en el suelo<br>\n",
    "al final.<br>\n",
    "El score es 0.727, mientras que la capacidad de clasificar de cada una de las<br>\n",
    "features por separado con toda la data era de:<br>\n",
    "temperaturaMinima: 0.685<br>\n",
    "temperaturaMaxima: 0.6803<br>\n",
    "Concluimos entonces que, al combinar estas features linealmente, fuimos<br>\n",
    "capaces de clasificar mejor a los dias lluviosos de los que no, que si<br>\n",
    "tuvieramos las features por separado.<br>\n"
   ]
  }
 ],
 "metadata": {
  "kernelspec": {
   "display_name": "Python 3 (ipykernel)",
   "language": "python",
   "name": "python3"
  },
  "language_info": {
   "codemirror_mode": {
    "name": "ipython",
    "version": 3
   },
   "file_extension": ".py",
   "mimetype": "text/x-python",
   "name": "python",
   "nbconvert_exporter": "python",
   "pygments_lexer": "ipython3",
   "version": "3.10.5"
  }
 },
 "nbformat": 4,
 "nbformat_minor": 2
}
